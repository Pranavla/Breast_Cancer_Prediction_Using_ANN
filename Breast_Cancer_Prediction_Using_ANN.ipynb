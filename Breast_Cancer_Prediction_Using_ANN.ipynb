{
  "nbformat": 4,
  "nbformat_minor": 0,
  "metadata": {
    "colab": {
      "provenance": [],
      "authorship_tag": "ABX9TyN2qrq8QK5gB4N7vD8QLa9z",
      "include_colab_link": true
    },
    "kernelspec": {
      "name": "python3",
      "display_name": "Python 3"
    },
    "language_info": {
      "name": "python"
    },
    "accelerator": "GPU",
    "gpuClass": "standard"
  },
  "cells": [
    {
      "cell_type": "markdown",
      "metadata": {
        "id": "view-in-github",
        "colab_type": "text"
      },
      "source": [
        "<a href=\"https://colab.research.google.com/github/Pranavla/Breast_Cancer_Prediction_Using_ANN/blob/main/Breast_Cancer_Prediction_Using_ANN.ipynb\" target=\"_parent\"><img src=\"https://colab.research.google.com/assets/colab-badge.svg\" alt=\"Open In Colab\"/></a>"
      ]
    },
    {
      "cell_type": "markdown",
      "source": [
        "# **Importing necessary libraries**"
      ],
      "metadata": {
        "id": "DOnpkzLC0hmt"
      }
    },
    {
      "cell_type": "code",
      "execution_count": null,
      "metadata": {
        "id": "kQGGLjBXsu_r"
      },
      "outputs": [],
      "source": [
        "import numpy as np\n",
        "import pandas as pd\n",
        "import matplotlib.pyplot as plt"
      ]
    },
    {
      "cell_type": "markdown",
      "source": [
        "# **Importing the dataset**"
      ],
      "metadata": {
        "id": "H9Q9kpgA0t3X"
      }
    },
    {
      "cell_type": "code",
      "source": [
        "df=pd.read_csv('/content/breast_cancer.csv')"
      ],
      "metadata": {
        "id": "BmDrc4GLuQWu"
      },
      "execution_count": null,
      "outputs": []
    },
    {
      "cell_type": "markdown",
      "source": [
        "Printing the first 10 rows in the dataset"
      ],
      "metadata": {
        "id": "0YlZQtexrcdt"
      }
    },
    {
      "cell_type": "code",
      "source": [
        "df.head(10)"
      ],
      "metadata": {
        "colab": {
          "base_uri": "https://localhost:8080/",
          "height": 473
        },
        "id": "8PQXkgdkuXvz",
        "outputId": "b202702d-6679-4747-bb22-70a52f8c65e0"
      },
      "execution_count": null,
      "outputs": [
        {
          "output_type": "execute_result",
          "data": {
            "text/plain": [
              "         id diagnosis  radius_mean  texture_mean  perimeter_mean  area_mean  \\\n",
              "0    842302         M        17.99         10.38          122.80     1001.0   \n",
              "1    842517         M        20.57         17.77          132.90     1326.0   \n",
              "2  84300903         M        19.69         21.25          130.00     1203.0   \n",
              "3  84348301         M        11.42         20.38           77.58      386.1   \n",
              "4  84358402         M        20.29         14.34          135.10     1297.0   \n",
              "5    843786         M        12.45         15.70           82.57      477.1   \n",
              "6    844359         M        18.25         19.98          119.60     1040.0   \n",
              "7  84458202         M        13.71         20.83           90.20      577.9   \n",
              "8    844981         M        13.00         21.82           87.50      519.8   \n",
              "9  84501001         M        12.46         24.04           83.97      475.9   \n",
              "\n",
              "   smoothness_mean  compactness_mean  concavity_mean  concave points_mean  \\\n",
              "0          0.11840           0.27760         0.30010              0.14710   \n",
              "1          0.08474           0.07864         0.08690              0.07017   \n",
              "2          0.10960           0.15990         0.19740              0.12790   \n",
              "3          0.14250           0.28390         0.24140              0.10520   \n",
              "4          0.10030           0.13280         0.19800              0.10430   \n",
              "5          0.12780           0.17000         0.15780              0.08089   \n",
              "6          0.09463           0.10900         0.11270              0.07400   \n",
              "7          0.11890           0.16450         0.09366              0.05985   \n",
              "8          0.12730           0.19320         0.18590              0.09353   \n",
              "9          0.11860           0.23960         0.22730              0.08543   \n",
              "\n",
              "   ...  texture_worst  perimeter_worst  area_worst  smoothness_worst  \\\n",
              "0  ...          17.33           184.60      2019.0            0.1622   \n",
              "1  ...          23.41           158.80      1956.0            0.1238   \n",
              "2  ...          25.53           152.50      1709.0            0.1444   \n",
              "3  ...          26.50            98.87       567.7            0.2098   \n",
              "4  ...          16.67           152.20      1575.0            0.1374   \n",
              "5  ...          23.75           103.40       741.6            0.1791   \n",
              "6  ...          27.66           153.20      1606.0            0.1442   \n",
              "7  ...          28.14           110.60       897.0            0.1654   \n",
              "8  ...          30.73           106.20       739.3            0.1703   \n",
              "9  ...          40.68            97.65       711.4            0.1853   \n",
              "\n",
              "   compactness_worst  concavity_worst  concave points_worst  symmetry_worst  \\\n",
              "0             0.6656           0.7119                0.2654          0.4601   \n",
              "1             0.1866           0.2416                0.1860          0.2750   \n",
              "2             0.4245           0.4504                0.2430          0.3613   \n",
              "3             0.8663           0.6869                0.2575          0.6638   \n",
              "4             0.2050           0.4000                0.1625          0.2364   \n",
              "5             0.5249           0.5355                0.1741          0.3985   \n",
              "6             0.2576           0.3784                0.1932          0.3063   \n",
              "7             0.3682           0.2678                0.1556          0.3196   \n",
              "8             0.5401           0.5390                0.2060          0.4378   \n",
              "9             1.0580           1.1050                0.2210          0.4366   \n",
              "\n",
              "   fractal_dimension_worst  Unnamed: 32  \n",
              "0                  0.11890          NaN  \n",
              "1                  0.08902          NaN  \n",
              "2                  0.08758          NaN  \n",
              "3                  0.17300          NaN  \n",
              "4                  0.07678          NaN  \n",
              "5                  0.12440          NaN  \n",
              "6                  0.08368          NaN  \n",
              "7                  0.11510          NaN  \n",
              "8                  0.10720          NaN  \n",
              "9                  0.20750          NaN  \n",
              "\n",
              "[10 rows x 33 columns]"
            ],
            "text/html": [
              "\n",
              "  <div id=\"df-fc311483-c110-4a96-b472-5423fabbede5\">\n",
              "    <div class=\"colab-df-container\">\n",
              "      <div>\n",
              "<style scoped>\n",
              "    .dataframe tbody tr th:only-of-type {\n",
              "        vertical-align: middle;\n",
              "    }\n",
              "\n",
              "    .dataframe tbody tr th {\n",
              "        vertical-align: top;\n",
              "    }\n",
              "\n",
              "    .dataframe thead th {\n",
              "        text-align: right;\n",
              "    }\n",
              "</style>\n",
              "<table border=\"1\" class=\"dataframe\">\n",
              "  <thead>\n",
              "    <tr style=\"text-align: right;\">\n",
              "      <th></th>\n",
              "      <th>id</th>\n",
              "      <th>diagnosis</th>\n",
              "      <th>radius_mean</th>\n",
              "      <th>texture_mean</th>\n",
              "      <th>perimeter_mean</th>\n",
              "      <th>area_mean</th>\n",
              "      <th>smoothness_mean</th>\n",
              "      <th>compactness_mean</th>\n",
              "      <th>concavity_mean</th>\n",
              "      <th>concave points_mean</th>\n",
              "      <th>...</th>\n",
              "      <th>texture_worst</th>\n",
              "      <th>perimeter_worst</th>\n",
              "      <th>area_worst</th>\n",
              "      <th>smoothness_worst</th>\n",
              "      <th>compactness_worst</th>\n",
              "      <th>concavity_worst</th>\n",
              "      <th>concave points_worst</th>\n",
              "      <th>symmetry_worst</th>\n",
              "      <th>fractal_dimension_worst</th>\n",
              "      <th>Unnamed: 32</th>\n",
              "    </tr>\n",
              "  </thead>\n",
              "  <tbody>\n",
              "    <tr>\n",
              "      <th>0</th>\n",
              "      <td>842302</td>\n",
              "      <td>M</td>\n",
              "      <td>17.99</td>\n",
              "      <td>10.38</td>\n",
              "      <td>122.80</td>\n",
              "      <td>1001.0</td>\n",
              "      <td>0.11840</td>\n",
              "      <td>0.27760</td>\n",
              "      <td>0.30010</td>\n",
              "      <td>0.14710</td>\n",
              "      <td>...</td>\n",
              "      <td>17.33</td>\n",
              "      <td>184.60</td>\n",
              "      <td>2019.0</td>\n",
              "      <td>0.1622</td>\n",
              "      <td>0.6656</td>\n",
              "      <td>0.7119</td>\n",
              "      <td>0.2654</td>\n",
              "      <td>0.4601</td>\n",
              "      <td>0.11890</td>\n",
              "      <td>NaN</td>\n",
              "    </tr>\n",
              "    <tr>\n",
              "      <th>1</th>\n",
              "      <td>842517</td>\n",
              "      <td>M</td>\n",
              "      <td>20.57</td>\n",
              "      <td>17.77</td>\n",
              "      <td>132.90</td>\n",
              "      <td>1326.0</td>\n",
              "      <td>0.08474</td>\n",
              "      <td>0.07864</td>\n",
              "      <td>0.08690</td>\n",
              "      <td>0.07017</td>\n",
              "      <td>...</td>\n",
              "      <td>23.41</td>\n",
              "      <td>158.80</td>\n",
              "      <td>1956.0</td>\n",
              "      <td>0.1238</td>\n",
              "      <td>0.1866</td>\n",
              "      <td>0.2416</td>\n",
              "      <td>0.1860</td>\n",
              "      <td>0.2750</td>\n",
              "      <td>0.08902</td>\n",
              "      <td>NaN</td>\n",
              "    </tr>\n",
              "    <tr>\n",
              "      <th>2</th>\n",
              "      <td>84300903</td>\n",
              "      <td>M</td>\n",
              "      <td>19.69</td>\n",
              "      <td>21.25</td>\n",
              "      <td>130.00</td>\n",
              "      <td>1203.0</td>\n",
              "      <td>0.10960</td>\n",
              "      <td>0.15990</td>\n",
              "      <td>0.19740</td>\n",
              "      <td>0.12790</td>\n",
              "      <td>...</td>\n",
              "      <td>25.53</td>\n",
              "      <td>152.50</td>\n",
              "      <td>1709.0</td>\n",
              "      <td>0.1444</td>\n",
              "      <td>0.4245</td>\n",
              "      <td>0.4504</td>\n",
              "      <td>0.2430</td>\n",
              "      <td>0.3613</td>\n",
              "      <td>0.08758</td>\n",
              "      <td>NaN</td>\n",
              "    </tr>\n",
              "    <tr>\n",
              "      <th>3</th>\n",
              "      <td>84348301</td>\n",
              "      <td>M</td>\n",
              "      <td>11.42</td>\n",
              "      <td>20.38</td>\n",
              "      <td>77.58</td>\n",
              "      <td>386.1</td>\n",
              "      <td>0.14250</td>\n",
              "      <td>0.28390</td>\n",
              "      <td>0.24140</td>\n",
              "      <td>0.10520</td>\n",
              "      <td>...</td>\n",
              "      <td>26.50</td>\n",
              "      <td>98.87</td>\n",
              "      <td>567.7</td>\n",
              "      <td>0.2098</td>\n",
              "      <td>0.8663</td>\n",
              "      <td>0.6869</td>\n",
              "      <td>0.2575</td>\n",
              "      <td>0.6638</td>\n",
              "      <td>0.17300</td>\n",
              "      <td>NaN</td>\n",
              "    </tr>\n",
              "    <tr>\n",
              "      <th>4</th>\n",
              "      <td>84358402</td>\n",
              "      <td>M</td>\n",
              "      <td>20.29</td>\n",
              "      <td>14.34</td>\n",
              "      <td>135.10</td>\n",
              "      <td>1297.0</td>\n",
              "      <td>0.10030</td>\n",
              "      <td>0.13280</td>\n",
              "      <td>0.19800</td>\n",
              "      <td>0.10430</td>\n",
              "      <td>...</td>\n",
              "      <td>16.67</td>\n",
              "      <td>152.20</td>\n",
              "      <td>1575.0</td>\n",
              "      <td>0.1374</td>\n",
              "      <td>0.2050</td>\n",
              "      <td>0.4000</td>\n",
              "      <td>0.1625</td>\n",
              "      <td>0.2364</td>\n",
              "      <td>0.07678</td>\n",
              "      <td>NaN</td>\n",
              "    </tr>\n",
              "    <tr>\n",
              "      <th>5</th>\n",
              "      <td>843786</td>\n",
              "      <td>M</td>\n",
              "      <td>12.45</td>\n",
              "      <td>15.70</td>\n",
              "      <td>82.57</td>\n",
              "      <td>477.1</td>\n",
              "      <td>0.12780</td>\n",
              "      <td>0.17000</td>\n",
              "      <td>0.15780</td>\n",
              "      <td>0.08089</td>\n",
              "      <td>...</td>\n",
              "      <td>23.75</td>\n",
              "      <td>103.40</td>\n",
              "      <td>741.6</td>\n",
              "      <td>0.1791</td>\n",
              "      <td>0.5249</td>\n",
              "      <td>0.5355</td>\n",
              "      <td>0.1741</td>\n",
              "      <td>0.3985</td>\n",
              "      <td>0.12440</td>\n",
              "      <td>NaN</td>\n",
              "    </tr>\n",
              "    <tr>\n",
              "      <th>6</th>\n",
              "      <td>844359</td>\n",
              "      <td>M</td>\n",
              "      <td>18.25</td>\n",
              "      <td>19.98</td>\n",
              "      <td>119.60</td>\n",
              "      <td>1040.0</td>\n",
              "      <td>0.09463</td>\n",
              "      <td>0.10900</td>\n",
              "      <td>0.11270</td>\n",
              "      <td>0.07400</td>\n",
              "      <td>...</td>\n",
              "      <td>27.66</td>\n",
              "      <td>153.20</td>\n",
              "      <td>1606.0</td>\n",
              "      <td>0.1442</td>\n",
              "      <td>0.2576</td>\n",
              "      <td>0.3784</td>\n",
              "      <td>0.1932</td>\n",
              "      <td>0.3063</td>\n",
              "      <td>0.08368</td>\n",
              "      <td>NaN</td>\n",
              "    </tr>\n",
              "    <tr>\n",
              "      <th>7</th>\n",
              "      <td>84458202</td>\n",
              "      <td>M</td>\n",
              "      <td>13.71</td>\n",
              "      <td>20.83</td>\n",
              "      <td>90.20</td>\n",
              "      <td>577.9</td>\n",
              "      <td>0.11890</td>\n",
              "      <td>0.16450</td>\n",
              "      <td>0.09366</td>\n",
              "      <td>0.05985</td>\n",
              "      <td>...</td>\n",
              "      <td>28.14</td>\n",
              "      <td>110.60</td>\n",
              "      <td>897.0</td>\n",
              "      <td>0.1654</td>\n",
              "      <td>0.3682</td>\n",
              "      <td>0.2678</td>\n",
              "      <td>0.1556</td>\n",
              "      <td>0.3196</td>\n",
              "      <td>0.11510</td>\n",
              "      <td>NaN</td>\n",
              "    </tr>\n",
              "    <tr>\n",
              "      <th>8</th>\n",
              "      <td>844981</td>\n",
              "      <td>M</td>\n",
              "      <td>13.00</td>\n",
              "      <td>21.82</td>\n",
              "      <td>87.50</td>\n",
              "      <td>519.8</td>\n",
              "      <td>0.12730</td>\n",
              "      <td>0.19320</td>\n",
              "      <td>0.18590</td>\n",
              "      <td>0.09353</td>\n",
              "      <td>...</td>\n",
              "      <td>30.73</td>\n",
              "      <td>106.20</td>\n",
              "      <td>739.3</td>\n",
              "      <td>0.1703</td>\n",
              "      <td>0.5401</td>\n",
              "      <td>0.5390</td>\n",
              "      <td>0.2060</td>\n",
              "      <td>0.4378</td>\n",
              "      <td>0.10720</td>\n",
              "      <td>NaN</td>\n",
              "    </tr>\n",
              "    <tr>\n",
              "      <th>9</th>\n",
              "      <td>84501001</td>\n",
              "      <td>M</td>\n",
              "      <td>12.46</td>\n",
              "      <td>24.04</td>\n",
              "      <td>83.97</td>\n",
              "      <td>475.9</td>\n",
              "      <td>0.11860</td>\n",
              "      <td>0.23960</td>\n",
              "      <td>0.22730</td>\n",
              "      <td>0.08543</td>\n",
              "      <td>...</td>\n",
              "      <td>40.68</td>\n",
              "      <td>97.65</td>\n",
              "      <td>711.4</td>\n",
              "      <td>0.1853</td>\n",
              "      <td>1.0580</td>\n",
              "      <td>1.1050</td>\n",
              "      <td>0.2210</td>\n",
              "      <td>0.4366</td>\n",
              "      <td>0.20750</td>\n",
              "      <td>NaN</td>\n",
              "    </tr>\n",
              "  </tbody>\n",
              "</table>\n",
              "<p>10 rows × 33 columns</p>\n",
              "</div>\n",
              "      <button class=\"colab-df-convert\" onclick=\"convertToInteractive('df-fc311483-c110-4a96-b472-5423fabbede5')\"\n",
              "              title=\"Convert this dataframe to an interactive table.\"\n",
              "              style=\"display:none;\">\n",
              "        \n",
              "  <svg xmlns=\"http://www.w3.org/2000/svg\" height=\"24px\"viewBox=\"0 0 24 24\"\n",
              "       width=\"24px\">\n",
              "    <path d=\"M0 0h24v24H0V0z\" fill=\"none\"/>\n",
              "    <path d=\"M18.56 5.44l.94 2.06.94-2.06 2.06-.94-2.06-.94-.94-2.06-.94 2.06-2.06.94zm-11 1L8.5 8.5l.94-2.06 2.06-.94-2.06-.94L8.5 2.5l-.94 2.06-2.06.94zm10 10l.94 2.06.94-2.06 2.06-.94-2.06-.94-.94-2.06-.94 2.06-2.06.94z\"/><path d=\"M17.41 7.96l-1.37-1.37c-.4-.4-.92-.59-1.43-.59-.52 0-1.04.2-1.43.59L10.3 9.45l-7.72 7.72c-.78.78-.78 2.05 0 2.83L4 21.41c.39.39.9.59 1.41.59.51 0 1.02-.2 1.41-.59l7.78-7.78 2.81-2.81c.8-.78.8-2.07 0-2.86zM5.41 20L4 18.59l7.72-7.72 1.47 1.35L5.41 20z\"/>\n",
              "  </svg>\n",
              "      </button>\n",
              "      \n",
              "  <style>\n",
              "    .colab-df-container {\n",
              "      display:flex;\n",
              "      flex-wrap:wrap;\n",
              "      gap: 12px;\n",
              "    }\n",
              "\n",
              "    .colab-df-convert {\n",
              "      background-color: #E8F0FE;\n",
              "      border: none;\n",
              "      border-radius: 50%;\n",
              "      cursor: pointer;\n",
              "      display: none;\n",
              "      fill: #1967D2;\n",
              "      height: 32px;\n",
              "      padding: 0 0 0 0;\n",
              "      width: 32px;\n",
              "    }\n",
              "\n",
              "    .colab-df-convert:hover {\n",
              "      background-color: #E2EBFA;\n",
              "      box-shadow: 0px 1px 2px rgba(60, 64, 67, 0.3), 0px 1px 3px 1px rgba(60, 64, 67, 0.15);\n",
              "      fill: #174EA6;\n",
              "    }\n",
              "\n",
              "    [theme=dark] .colab-df-convert {\n",
              "      background-color: #3B4455;\n",
              "      fill: #D2E3FC;\n",
              "    }\n",
              "\n",
              "    [theme=dark] .colab-df-convert:hover {\n",
              "      background-color: #434B5C;\n",
              "      box-shadow: 0px 1px 3px 1px rgba(0, 0, 0, 0.15);\n",
              "      filter: drop-shadow(0px 1px 2px rgba(0, 0, 0, 0.3));\n",
              "      fill: #FFFFFF;\n",
              "    }\n",
              "  </style>\n",
              "\n",
              "      <script>\n",
              "        const buttonEl =\n",
              "          document.querySelector('#df-fc311483-c110-4a96-b472-5423fabbede5 button.colab-df-convert');\n",
              "        buttonEl.style.display =\n",
              "          google.colab.kernel.accessAllowed ? 'block' : 'none';\n",
              "\n",
              "        async function convertToInteractive(key) {\n",
              "          const element = document.querySelector('#df-fc311483-c110-4a96-b472-5423fabbede5');\n",
              "          const dataTable =\n",
              "            await google.colab.kernel.invokeFunction('convertToInteractive',\n",
              "                                                     [key], {});\n",
              "          if (!dataTable) return;\n",
              "\n",
              "          const docLinkHtml = 'Like what you see? Visit the ' +\n",
              "            '<a target=\"_blank\" href=https://colab.research.google.com/notebooks/data_table.ipynb>data table notebook</a>'\n",
              "            + ' to learn more about interactive tables.';\n",
              "          element.innerHTML = '';\n",
              "          dataTable['output_type'] = 'display_data';\n",
              "          await google.colab.output.renderOutput(dataTable, element);\n",
              "          const docLink = document.createElement('div');\n",
              "          docLink.innerHTML = docLinkHtml;\n",
              "          element.appendChild(docLink);\n",
              "        }\n",
              "      </script>\n",
              "    </div>\n",
              "  </div>\n",
              "  "
            ]
          },
          "metadata": {},
          "execution_count": 42
        }
      ]
    },
    {
      "cell_type": "markdown",
      "source": [
        "Coiunting the number of rows and columns in the dataset"
      ],
      "metadata": {
        "id": "LyUQnrH_rlJp"
      }
    },
    {
      "cell_type": "code",
      "source": [
        "df.shape"
      ],
      "metadata": {
        "colab": {
          "base_uri": "https://localhost:8080/"
        },
        "id": "T5TNj6hIvOgD",
        "outputId": "8399befd-8d37-4294-a7bd-d421b46dfd9f"
      },
      "execution_count": null,
      "outputs": [
        {
          "output_type": "execute_result",
          "data": {
            "text/plain": [
              "(569, 33)"
            ]
          },
          "metadata": {},
          "execution_count": 43
        }
      ]
    },
    {
      "cell_type": "markdown",
      "source": [
        "From here we can understand that the dataset is having 569 rows and 33 columns .The dataset is a quality dataset it not having any missing values or unregular blocks . So, we are seperating X(Input) and y(output). The diagnosis column is the output column and other values can be taken for input.The id column is not required."
      ],
      "metadata": {
        "id": "A9obTHzVrsf3"
      }
    },
    {
      "cell_type": "markdown",
      "source": [
        "Printing the column names"
      ],
      "metadata": {
        "id": "VEiFEOIC8Aof"
      }
    },
    {
      "cell_type": "code",
      "source": [
        "print(df.columns)"
      ],
      "metadata": {
        "colab": {
          "base_uri": "https://localhost:8080/"
        },
        "id": "sbYRcZep8FXl",
        "outputId": "9a8837d5-b5cc-48f1-a30a-db72b78ade20"
      },
      "execution_count": null,
      "outputs": [
        {
          "output_type": "stream",
          "name": "stdout",
          "text": [
            "Index(['id', 'diagnosis', 'radius_mean', 'texture_mean', 'perimeter_mean',\n",
            "       'area_mean', 'smoothness_mean', 'compactness_mean', 'concavity_mean',\n",
            "       'concave points_mean', 'symmetry_mean', 'fractal_dimension_mean',\n",
            "       'radius_se', 'texture_se', 'perimeter_se', 'area_se', 'smoothness_se',\n",
            "       'compactness_se', 'concavity_se', 'concave points_se', 'symmetry_se',\n",
            "       'fractal_dimension_se', 'radius_worst', 'texture_worst',\n",
            "       'perimeter_worst', 'area_worst', 'smoothness_worst',\n",
            "       'compactness_worst', 'concavity_worst', 'concave points_worst',\n",
            "       'symmetry_worst', 'fractal_dimension_worst', 'Unnamed: 32'],\n",
            "      dtype='object')\n"
          ]
        }
      ]
    },
    {
      "cell_type": "code",
      "source": [
        "X = df.iloc[:,2:32].values\n",
        "y = df.iloc[:,1].values"
      ],
      "metadata": {
        "id": "vAmkD4ADvWY2"
      },
      "execution_count": null,
      "outputs": []
    },
    {
      "cell_type": "markdown",
      "source": [
        "We need to transform the categorical data into numerical data so am using label encoding for it."
      ],
      "metadata": {
        "id": "XPtnspAgtDtD"
      }
    },
    {
      "cell_type": "code",
      "source": [
        "from sklearn.preprocessing import LabelEncoder\n",
        "labelencoder = LabelEncoder()"
      ],
      "metadata": {
        "id": "xtdlic4yysPu"
      },
      "execution_count": null,
      "outputs": []
    },
    {
      "cell_type": "code",
      "source": [
        "y = labelencoder.fit_transform(y)"
      ],
      "metadata": {
        "id": "UmQzGqkPz_nN"
      },
      "execution_count": null,
      "outputs": []
    },
    {
      "cell_type": "code",
      "source": [
        "y"
      ],
      "metadata": {
        "colab": {
          "base_uri": "https://localhost:8080/"
        },
        "id": "oicX-Rk70JMa",
        "outputId": "795b5b29-6724-4778-ae2f-256411c04dad"
      },
      "execution_count": null,
      "outputs": [
        {
          "output_type": "execute_result",
          "data": {
            "text/plain": [
              "array([1, 1, 1, 1, 1, 1, 1, 1, 1, 1, 1, 1, 1, 1, 1, 1, 1, 1, 1, 0, 0, 0,\n",
              "       1, 1, 1, 1, 1, 1, 1, 1, 1, 1, 1, 1, 1, 1, 1, 0, 1, 1, 1, 1, 1, 1,\n",
              "       1, 1, 0, 1, 0, 0, 0, 0, 0, 1, 1, 0, 1, 1, 0, 0, 0, 0, 1, 0, 1, 1,\n",
              "       0, 0, 0, 0, 1, 0, 1, 1, 0, 1, 0, 1, 1, 0, 0, 0, 1, 1, 0, 1, 1, 1,\n",
              "       0, 0, 0, 1, 0, 0, 1, 1, 0, 0, 0, 1, 1, 0, 0, 0, 0, 1, 0, 0, 1, 0,\n",
              "       0, 0, 0, 0, 0, 0, 0, 1, 1, 1, 0, 1, 1, 0, 0, 0, 1, 1, 0, 1, 0, 1,\n",
              "       1, 0, 1, 1, 0, 0, 1, 0, 0, 1, 0, 0, 0, 0, 1, 0, 0, 0, 0, 0, 0, 0,\n",
              "       0, 0, 1, 0, 0, 0, 0, 1, 1, 0, 1, 0, 0, 1, 1, 0, 0, 1, 1, 0, 0, 0,\n",
              "       0, 1, 0, 0, 1, 1, 1, 0, 1, 0, 1, 0, 0, 0, 1, 0, 0, 1, 1, 0, 1, 1,\n",
              "       1, 1, 0, 1, 1, 1, 0, 1, 0, 1, 0, 0, 1, 0, 1, 1, 1, 1, 0, 0, 1, 1,\n",
              "       0, 0, 0, 1, 0, 0, 0, 0, 0, 1, 1, 0, 0, 1, 0, 0, 1, 1, 0, 1, 0, 0,\n",
              "       0, 0, 1, 0, 0, 0, 0, 0, 1, 0, 1, 1, 1, 1, 1, 1, 1, 1, 1, 1, 1, 1,\n",
              "       1, 1, 0, 0, 0, 0, 0, 0, 1, 0, 1, 0, 0, 1, 0, 0, 1, 0, 1, 1, 0, 0,\n",
              "       0, 0, 0, 0, 0, 0, 0, 0, 0, 0, 0, 1, 0, 0, 1, 0, 1, 0, 0, 0, 0, 0,\n",
              "       0, 0, 0, 0, 0, 0, 0, 0, 0, 1, 0, 0, 0, 1, 0, 1, 0, 0, 0, 0, 1, 1,\n",
              "       1, 0, 0, 0, 0, 1, 0, 1, 0, 1, 0, 0, 0, 1, 0, 0, 0, 0, 0, 0, 0, 1,\n",
              "       1, 1, 0, 0, 0, 0, 0, 0, 0, 0, 0, 0, 0, 1, 1, 0, 1, 1, 1, 0, 1, 1,\n",
              "       0, 0, 0, 0, 0, 1, 0, 0, 0, 0, 0, 1, 0, 0, 0, 1, 0, 0, 1, 1, 0, 0,\n",
              "       0, 0, 0, 0, 1, 0, 0, 0, 0, 0, 0, 0, 1, 0, 0, 0, 0, 0, 1, 0, 0, 1,\n",
              "       0, 0, 0, 0, 0, 0, 0, 0, 0, 0, 0, 0, 1, 0, 1, 1, 0, 1, 0, 0, 0, 0,\n",
              "       0, 1, 0, 0, 1, 0, 1, 0, 0, 1, 0, 1, 0, 0, 0, 0, 0, 0, 0, 0, 1, 1,\n",
              "       0, 0, 0, 0, 0, 0, 1, 0, 0, 0, 0, 0, 0, 0, 0, 0, 0, 1, 0, 0, 0, 0,\n",
              "       0, 0, 0, 1, 0, 1, 0, 0, 1, 0, 0, 0, 0, 0, 1, 1, 0, 1, 0, 1, 0, 0,\n",
              "       0, 0, 0, 1, 0, 0, 1, 0, 1, 0, 1, 1, 0, 0, 0, 1, 0, 0, 0, 0, 0, 0,\n",
              "       0, 0, 0, 0, 0, 1, 0, 1, 1, 0, 0, 0, 0, 0, 0, 0, 0, 0, 0, 0, 0, 0,\n",
              "       0, 0, 0, 0, 0, 0, 0, 0, 0, 0, 0, 0, 1, 1, 1, 1, 1, 1, 0])"
            ]
          },
          "metadata": {},
          "execution_count": 48
        }
      ]
    },
    {
      "cell_type": "markdown",
      "source": [
        "# **Training**"
      ],
      "metadata": {
        "id": "YWs_hycSRKDo"
      }
    },
    {
      "cell_type": "markdown",
      "source": [
        "Seperating training and testing data and scaling the data"
      ],
      "metadata": {
        "id": "NWT5KsMhtShl"
      }
    },
    {
      "cell_type": "code",
      "source": [
        "from sklearn.model_selection import train_test_split\n",
        "X_train,X_test,y_train,y_test = train_test_split(X,y,test_size = 0.3,random_state = 42)"
      ],
      "metadata": {
        "id": "4-XYfYN60Mt5"
      },
      "execution_count": null,
      "outputs": []
    },
    {
      "cell_type": "code",
      "source": [
        "from sklearn.preprocessing import StandardScaler\n",
        "sc = StandardScaler()\n",
        "X_train = sc.fit_transform(X_train)\n",
        "X_test = sc.fit_transform(X_test)"
      ],
      "metadata": {
        "id": "G7mF8ojzFjk5"
      },
      "execution_count": null,
      "outputs": []
    },
    {
      "cell_type": "markdown",
      "source": [
        "# **ANN**"
      ],
      "metadata": {
        "id": "-aSdnuMgGnVT"
      }
    },
    {
      "cell_type": "markdown",
      "source": [
        "We need keras package for training the neural network"
      ],
      "metadata": {
        "id": "OIYIGhb5twa4"
      }
    },
    {
      "cell_type": "code",
      "source": [
        "!pip install -q keras"
      ],
      "metadata": {
        "id": "5x2jJbqbG6Ii"
      },
      "execution_count": null,
      "outputs": []
    },
    {
      "cell_type": "code",
      "source": [
        "import keras\n",
        "from keras.models import Sequential\n",
        "from keras.layers import Dense"
      ],
      "metadata": {
        "id": "CwT60jlEHKqp"
      },
      "execution_count": null,
      "outputs": []
    },
    {
      "cell_type": "markdown",
      "source": [
        "## Initialising ANN"
      ],
      "metadata": {
        "id": "K-kY7KoFIDCw"
      }
    },
    {
      "cell_type": "code",
      "source": [
        "classifier = Sequential()"
      ],
      "metadata": {
        "id": "kl9E0D3uHtvm"
      },
      "execution_count": null,
      "outputs": []
    },
    {
      "cell_type": "markdown",
      "source": [
        "## Creating input and first hidden layer"
      ],
      "metadata": {
        "id": "hl1MbV6OJPWF"
      }
    },
    {
      "cell_type": "code",
      "source": [
        "classifier.add(Dense(units = 16,kernel_initializer = 'uniform',activation = 'sigmoid',input_dim = 30))"
      ],
      "metadata": {
        "id": "YLL_YT8mIPrp"
      },
      "execution_count": null,
      "outputs": []
    },
    {
      "cell_type": "markdown",
      "source": [
        "## Creating Second hidden layer"
      ],
      "metadata": {
        "id": "vhGU7rZkNM0u"
      }
    },
    {
      "cell_type": "code",
      "source": [
        "classifier.add(Dense(units = 16,kernel_initializer = 'uniform',activation='sigmoid'))"
      ],
      "metadata": {
        "id": "kENXAMpMNSaU"
      },
      "execution_count": null,
      "outputs": []
    },
    {
      "cell_type": "markdown",
      "source": [
        "## Creating output layer"
      ],
      "metadata": {
        "id": "2xyQbIELNxRO"
      }
    },
    {
      "cell_type": "code",
      "source": [
        "classifier.add(Dense(units = 1,kernel_initializer = 'uniform',activation='relu'))"
      ],
      "metadata": {
        "id": "KEX3nF4ON5vZ"
      },
      "execution_count": null,
      "outputs": []
    },
    {
      "cell_type": "markdown",
      "source": [
        "# **Training the dataset**"
      ],
      "metadata": {
        "id": "FO0_oUZfQCMD"
      }
    },
    {
      "cell_type": "code",
      "source": [
        "classifier.compile(optimizer = 'adam',loss = 'binary_crossentropy',metrics = ['accuracy'])"
      ],
      "metadata": {
        "id": "xV5JaJDOPEMo"
      },
      "execution_count": null,
      "outputs": []
    },
    {
      "cell_type": "code",
      "source": [
        "classifier.fit(X_train,y_train,batch_size = 10,epochs = 100)"
      ],
      "metadata": {
        "colab": {
          "base_uri": "https://localhost:8080/"
        },
        "id": "EO0fONInPwzB",
        "outputId": "73e64599-9942-43ce-aedd-2789df08ac4f"
      },
      "execution_count": null,
      "outputs": [
        {
          "output_type": "stream",
          "name": "stdout",
          "text": [
            "Epoch 1/100\n",
            "40/40 [==============================] - 2s 5ms/step - loss: 0.7332 - accuracy: 0.6256\n",
            "Epoch 2/100\n",
            "40/40 [==============================] - 0s 5ms/step - loss: 0.6418 - accuracy: 0.6256\n",
            "Epoch 3/100\n",
            "40/40 [==============================] - 0s 5ms/step - loss: 0.6088 - accuracy: 0.6256\n",
            "Epoch 4/100\n",
            "40/40 [==============================] - 0s 5ms/step - loss: 0.5683 - accuracy: 0.6482\n",
            "Epoch 5/100\n",
            "40/40 [==============================] - 0s 5ms/step - loss: 0.5245 - accuracy: 0.8844\n",
            "Epoch 6/100\n",
            "40/40 [==============================] - 0s 5ms/step - loss: 0.4747 - accuracy: 0.9322\n",
            "Epoch 7/100\n",
            "40/40 [==============================] - 0s 5ms/step - loss: 0.4132 - accuracy: 0.9472\n",
            "Epoch 8/100\n",
            "40/40 [==============================] - 0s 5ms/step - loss: 0.3396 - accuracy: 0.9548\n",
            "Epoch 9/100\n",
            "40/40 [==============================] - 0s 5ms/step - loss: 0.2569 - accuracy: 0.9598\n",
            "Epoch 10/100\n",
            "40/40 [==============================] - 0s 3ms/step - loss: 0.1714 - accuracy: 0.9648\n",
            "Epoch 11/100\n",
            "40/40 [==============================] - 0s 4ms/step - loss: 0.1399 - accuracy: 0.9648\n",
            "Epoch 12/100\n",
            "40/40 [==============================] - 0s 5ms/step - loss: 0.1202 - accuracy: 0.9673\n",
            "Epoch 13/100\n",
            "40/40 [==============================] - 0s 5ms/step - loss: 0.1136 - accuracy: 0.9724\n",
            "Epoch 14/100\n",
            "40/40 [==============================] - 0s 3ms/step - loss: 0.1067 - accuracy: 0.9774\n",
            "Epoch 15/100\n",
            "40/40 [==============================] - 0s 4ms/step - loss: 0.1034 - accuracy: 0.9774\n",
            "Epoch 16/100\n",
            "40/40 [==============================] - 0s 3ms/step - loss: 0.1000 - accuracy: 0.9774\n",
            "Epoch 17/100\n",
            "40/40 [==============================] - 0s 4ms/step - loss: 0.0976 - accuracy: 0.9799\n",
            "Epoch 18/100\n",
            "40/40 [==============================] - 0s 3ms/step - loss: 0.0948 - accuracy: 0.9774\n",
            "Epoch 19/100\n",
            "40/40 [==============================] - 0s 3ms/step - loss: 0.0945 - accuracy: 0.9774\n",
            "Epoch 20/100\n",
            "40/40 [==============================] - 0s 3ms/step - loss: 0.0911 - accuracy: 0.9774\n",
            "Epoch 21/100\n",
            "40/40 [==============================] - 0s 3ms/step - loss: 0.0892 - accuracy: 0.9774\n",
            "Epoch 22/100\n",
            "40/40 [==============================] - 0s 3ms/step - loss: 0.0884 - accuracy: 0.9799\n",
            "Epoch 23/100\n",
            "40/40 [==============================] - 0s 3ms/step - loss: 0.0876 - accuracy: 0.9799\n",
            "Epoch 24/100\n",
            "40/40 [==============================] - 0s 4ms/step - loss: 0.0886 - accuracy: 0.9774\n",
            "Epoch 25/100\n",
            "40/40 [==============================] - 0s 3ms/step - loss: 0.0847 - accuracy: 0.9774\n",
            "Epoch 26/100\n",
            "40/40 [==============================] - 0s 4ms/step - loss: 0.0848 - accuracy: 0.9824\n",
            "Epoch 27/100\n",
            "40/40 [==============================] - 0s 3ms/step - loss: 0.0825 - accuracy: 0.9824\n",
            "Epoch 28/100\n",
            "40/40 [==============================] - 0s 3ms/step - loss: 0.0820 - accuracy: 0.9774\n",
            "Epoch 29/100\n",
            "40/40 [==============================] - 0s 3ms/step - loss: 0.0811 - accuracy: 0.9824\n",
            "Epoch 30/100\n",
            "40/40 [==============================] - 0s 3ms/step - loss: 0.0806 - accuracy: 0.9824\n",
            "Epoch 31/100\n",
            "40/40 [==============================] - 0s 4ms/step - loss: 0.0796 - accuracy: 0.9799\n",
            "Epoch 32/100\n",
            "40/40 [==============================] - 0s 3ms/step - loss: 0.0795 - accuracy: 0.9824\n",
            "Epoch 33/100\n",
            "40/40 [==============================] - 0s 4ms/step - loss: 0.0785 - accuracy: 0.9799\n",
            "Epoch 34/100\n",
            "40/40 [==============================] - 0s 4ms/step - loss: 0.0777 - accuracy: 0.9824\n",
            "Epoch 35/100\n",
            "40/40 [==============================] - 0s 6ms/step - loss: 0.0774 - accuracy: 0.9824\n",
            "Epoch 36/100\n",
            "40/40 [==============================] - 0s 5ms/step - loss: 0.0785 - accuracy: 0.9824\n",
            "Epoch 37/100\n",
            "40/40 [==============================] - 0s 7ms/step - loss: 0.0764 - accuracy: 0.9849\n",
            "Epoch 38/100\n",
            "40/40 [==============================] - 0s 5ms/step - loss: 0.0756 - accuracy: 0.9824\n",
            "Epoch 39/100\n",
            "40/40 [==============================] - 0s 5ms/step - loss: 0.0755 - accuracy: 0.9824\n",
            "Epoch 40/100\n",
            "40/40 [==============================] - 0s 8ms/step - loss: 0.0752 - accuracy: 0.9824\n",
            "Epoch 41/100\n",
            "40/40 [==============================] - 0s 7ms/step - loss: 0.0759 - accuracy: 0.9799\n",
            "Epoch 42/100\n",
            "40/40 [==============================] - 0s 7ms/step - loss: 0.0732 - accuracy: 0.9824\n",
            "Epoch 43/100\n",
            "40/40 [==============================] - 0s 6ms/step - loss: 0.0741 - accuracy: 0.9849\n",
            "Epoch 44/100\n",
            "40/40 [==============================] - 0s 6ms/step - loss: 0.0728 - accuracy: 0.9824\n",
            "Epoch 45/100\n",
            "40/40 [==============================] - 0s 6ms/step - loss: 0.0722 - accuracy: 0.9824\n",
            "Epoch 46/100\n",
            "40/40 [==============================] - 0s 6ms/step - loss: 0.0721 - accuracy: 0.9824\n",
            "Epoch 47/100\n",
            "40/40 [==============================] - 0s 5ms/step - loss: 0.0719 - accuracy: 0.9849\n",
            "Epoch 48/100\n",
            "40/40 [==============================] - 0s 5ms/step - loss: 0.0713 - accuracy: 0.9824\n",
            "Epoch 49/100\n",
            "40/40 [==============================] - 0s 7ms/step - loss: 0.0714 - accuracy: 0.9824\n",
            "Epoch 50/100\n",
            "40/40 [==============================] - 0s 6ms/step - loss: 0.0711 - accuracy: 0.9824\n",
            "Epoch 51/100\n",
            "40/40 [==============================] - 0s 6ms/step - loss: 0.0704 - accuracy: 0.9824\n",
            "Epoch 52/100\n",
            "40/40 [==============================] - 0s 6ms/step - loss: 0.0719 - accuracy: 0.9799\n",
            "Epoch 53/100\n",
            "40/40 [==============================] - 0s 8ms/step - loss: 0.0707 - accuracy: 0.9849\n",
            "Epoch 54/100\n",
            "40/40 [==============================] - 0s 7ms/step - loss: 0.0699 - accuracy: 0.9849\n",
            "Epoch 55/100\n",
            "40/40 [==============================] - 0s 7ms/step - loss: 0.0695 - accuracy: 0.9849\n",
            "Epoch 56/100\n",
            "40/40 [==============================] - 0s 8ms/step - loss: 0.0688 - accuracy: 0.9874\n",
            "Epoch 57/100\n",
            "40/40 [==============================] - 0s 7ms/step - loss: 0.0689 - accuracy: 0.9874\n",
            "Epoch 58/100\n",
            "40/40 [==============================] - 0s 9ms/step - loss: 0.0685 - accuracy: 0.9874\n",
            "Epoch 59/100\n",
            "40/40 [==============================] - 0s 7ms/step - loss: 0.0687 - accuracy: 0.9874\n",
            "Epoch 60/100\n",
            "40/40 [==============================] - 0s 10ms/step - loss: 0.0686 - accuracy: 0.9849\n",
            "Epoch 61/100\n",
            "40/40 [==============================] - 0s 8ms/step - loss: 0.0684 - accuracy: 0.9849\n",
            "Epoch 62/100\n",
            "40/40 [==============================] - 0s 9ms/step - loss: 0.0678 - accuracy: 0.9874\n",
            "Epoch 63/100\n",
            "40/40 [==============================] - 0s 7ms/step - loss: 0.0676 - accuracy: 0.9874\n",
            "Epoch 64/100\n",
            "40/40 [==============================] - 0s 8ms/step - loss: 0.0673 - accuracy: 0.9849\n",
            "Epoch 65/100\n",
            "40/40 [==============================] - 0s 7ms/step - loss: 0.0675 - accuracy: 0.9849\n",
            "Epoch 66/100\n",
            "40/40 [==============================] - 0s 7ms/step - loss: 0.0677 - accuracy: 0.9874\n",
            "Epoch 67/100\n",
            "40/40 [==============================] - 0s 7ms/step - loss: 0.0666 - accuracy: 0.9874\n",
            "Epoch 68/100\n",
            "40/40 [==============================] - 0s 6ms/step - loss: 0.0674 - accuracy: 0.9874\n",
            "Epoch 69/100\n",
            "40/40 [==============================] - 0s 7ms/step - loss: 0.0667 - accuracy: 0.9874\n",
            "Epoch 70/100\n",
            "40/40 [==============================] - 0s 6ms/step - loss: 0.0664 - accuracy: 0.9874\n",
            "Epoch 71/100\n",
            "40/40 [==============================] - 0s 6ms/step - loss: 0.0658 - accuracy: 0.9874\n",
            "Epoch 72/100\n",
            "40/40 [==============================] - 0s 6ms/step - loss: 0.0658 - accuracy: 0.9874\n",
            "Epoch 73/100\n",
            "40/40 [==============================] - 0s 7ms/step - loss: 0.0659 - accuracy: 0.9874\n",
            "Epoch 74/100\n",
            "40/40 [==============================] - 0s 7ms/step - loss: 0.0662 - accuracy: 0.9874\n",
            "Epoch 75/100\n",
            "40/40 [==============================] - 0s 7ms/step - loss: 0.0651 - accuracy: 0.9874\n",
            "Epoch 76/100\n",
            "40/40 [==============================] - 0s 7ms/step - loss: 0.0650 - accuracy: 0.9874\n",
            "Epoch 77/100\n",
            "40/40 [==============================] - 0s 8ms/step - loss: 0.0654 - accuracy: 0.9874\n",
            "Epoch 78/100\n",
            "40/40 [==============================] - 0s 6ms/step - loss: 0.0650 - accuracy: 0.9874\n",
            "Epoch 79/100\n",
            "40/40 [==============================] - 0s 7ms/step - loss: 0.0660 - accuracy: 0.9874\n",
            "Epoch 80/100\n",
            "40/40 [==============================] - 0s 5ms/step - loss: 0.0642 - accuracy: 0.9874\n",
            "Epoch 81/100\n",
            "40/40 [==============================] - 0s 6ms/step - loss: 0.0639 - accuracy: 0.9874\n",
            "Epoch 82/100\n",
            "40/40 [==============================] - 0s 5ms/step - loss: 0.0643 - accuracy: 0.9874\n",
            "Epoch 83/100\n",
            "40/40 [==============================] - 0s 5ms/step - loss: 0.0653 - accuracy: 0.9849\n",
            "Epoch 84/100\n",
            "40/40 [==============================] - 0s 6ms/step - loss: 0.0649 - accuracy: 0.9874\n",
            "Epoch 85/100\n",
            "40/40 [==============================] - 0s 7ms/step - loss: 0.0638 - accuracy: 0.9874\n",
            "Epoch 86/100\n",
            "40/40 [==============================] - 0s 5ms/step - loss: 0.0642 - accuracy: 0.9874\n",
            "Epoch 87/100\n",
            "40/40 [==============================] - 0s 5ms/step - loss: 0.0634 - accuracy: 0.9874\n",
            "Epoch 88/100\n",
            "40/40 [==============================] - 0s 6ms/step - loss: 0.0637 - accuracy: 0.9874\n",
            "Epoch 89/100\n",
            "40/40 [==============================] - 0s 7ms/step - loss: 0.0634 - accuracy: 0.9874\n",
            "Epoch 90/100\n",
            "40/40 [==============================] - 0s 6ms/step - loss: 0.0624 - accuracy: 0.9874\n",
            "Epoch 91/100\n",
            "40/40 [==============================] - 0s 6ms/step - loss: 0.0628 - accuracy: 0.9874\n",
            "Epoch 92/100\n",
            "40/40 [==============================] - 0s 7ms/step - loss: 0.0620 - accuracy: 0.9874\n",
            "Epoch 93/100\n",
            "40/40 [==============================] - 0s 6ms/step - loss: 0.0620 - accuracy: 0.9874\n",
            "Epoch 94/100\n",
            "40/40 [==============================] - 0s 8ms/step - loss: 0.0621 - accuracy: 0.9874\n",
            "Epoch 95/100\n",
            "40/40 [==============================] - 0s 7ms/step - loss: 0.0619 - accuracy: 0.9874\n",
            "Epoch 96/100\n",
            "40/40 [==============================] - 0s 7ms/step - loss: 0.0613 - accuracy: 0.9874\n",
            "Epoch 97/100\n",
            "40/40 [==============================] - 0s 6ms/step - loss: 0.0617 - accuracy: 0.9874\n",
            "Epoch 98/100\n",
            "40/40 [==============================] - 0s 7ms/step - loss: 0.0608 - accuracy: 0.9874\n",
            "Epoch 99/100\n",
            "40/40 [==============================] - 0s 7ms/step - loss: 0.0607 - accuracy: 0.9874\n",
            "Epoch 100/100\n",
            "40/40 [==============================] - 0s 8ms/step - loss: 0.0609 - accuracy: 0.9874\n"
          ]
        },
        {
          "output_type": "execute_result",
          "data": {
            "text/plain": [
              "<keras.callbacks.History at 0x7fef6848c8b0>"
            ]
          },
          "metadata": {},
          "execution_count": 58
        }
      ]
    },
    {
      "cell_type": "code",
      "source": [
        "from sklearn.metrics import accuracy_score\n",
        "y_pred = classifier.predict(X_test)\n",
        "y_pred = (y_pred>0.5)\n",
        "accuracy = accuracy_score(y_test,y_pred)\n",
        "print(\"Accuracy :%.2f%% \" %(accuracy*100))"
      ],
      "metadata": {
        "colab": {
          "base_uri": "https://localhost:8080/"
        },
        "id": "Z0pSD_XaSTAR",
        "outputId": "4aec66b8-df44-45e1-e02a-5f47ddf0118d"
      },
      "execution_count": null,
      "outputs": [
        {
          "output_type": "stream",
          "name": "stdout",
          "text": [
            "6/6 [==============================] - 0s 4ms/step\n",
            "Accuracy :98.83% \n"
          ]
        }
      ]
    },
    {
      "cell_type": "markdown",
      "source": [
        "From this we can understand that the model is **having an accuracy of 99%** which is amazing"
      ],
      "metadata": {
        "id": "Iw6UblMk6r-k"
      }
    },
    {
      "cell_type": "markdown",
      "source": [
        "Let's print the confusion metrics to get the positives and negatives"
      ],
      "metadata": {
        "id": "7uBmk4tj69SW"
      }
    },
    {
      "cell_type": "code",
      "source": [
        "from sklearn.metrics import confusion_matrix\n",
        "cm = confusion_matrix(y_test,y_pred)"
      ],
      "metadata": {
        "id": "sfc2Pj8nST_R"
      },
      "execution_count": null,
      "outputs": []
    },
    {
      "cell_type": "code",
      "source": [
        "cm"
      ],
      "metadata": {
        "id": "apg8-t6pTGwM",
        "outputId": "e49ac9fd-a264-499c-c5b7-7e1c81a66ead",
        "colab": {
          "base_uri": "https://localhost:8080/"
        }
      },
      "execution_count": null,
      "outputs": [
        {
          "output_type": "execute_result",
          "data": {
            "text/plain": [
              "array([[107,   1],\n",
              "       [  1,  62]])"
            ]
          },
          "metadata": {},
          "execution_count": 61
        }
      ]
    },
    {
      "cell_type": "markdown",
      "source": [
        "## **Testing the perfomance of the model**"
      ],
      "metadata": {
        "id": "YOsBWJSRulWS"
      }
    },
    {
      "cell_type": "code",
      "source": [
        "print(\"Enter the following values to predict breast cancer diagnosis: 1.Radius_mean, 2.Texture_mean, 3.Perimeter_mean, 4.Area_mean, 5.Smoothness_mean, 6.compactness_mean,7.Concavity_mean,8.Cconcave points_mean, 9.Symmetry_mean, 10.Fractal_dimension_mean',11.Radius_se, 12.Texture_se, 13.Perimeter_se, 14.Area_se, 15.Smoothness_se,16.Compactness_se', 17.Concavity_se, 18.Concave points_se, 19.symmetry_se,20.Fractal_dimension_se, 21.Radius_worst', 22.Texture_worst,23.Perimeter_worst', 24.Area_worst, 25.smoothness_worst, 26.Compactness_worst, 27.Concavity_worst, 28.Concave points_worst', 29.Symmetry_worst, 30.Fractal_dimension_worst00.2871\")\n",
        "input_data = []\n",
        "for i in range(30):\n",
        "    value = float(input(f\"Enter value {i+1}: \"))\n",
        "    input_data.append(value)\n",
        "new_data = np.array([input_data])\n",
        "new_data_scaled = sc.transform(new_data)\n",
        "prediction = classifier.predict(new_data_scaled)\n",
        "if prediction > 0.5:\n",
        "    diagnosis = \"Malignant\"\n",
        "else:\n",
        "    diagnosis = \"Benign\"\n",
        "print(\"Prediction for input data:\", diagnosis)"
      ],
      "metadata": {
        "colab": {
          "base_uri": "https://localhost:8080/"
        },
        "id": "kYYATXQuurbc",
        "outputId": "dee7626a-839c-4382-bd4b-963e2cc3b169"
      },
      "execution_count": null,
      "outputs": [
        {
          "output_type": "stream",
          "name": "stdout",
          "text": [
            "Enter the following values to predict breast cancer diagnosis: 1.Radius_mean, 2.Texture_mean, 3.Perimeter_mean, 4.Area_mean, 5.Smoothness_mean, 6.compactness_mean,7.Concavity_mean,8.Cconcave points_mean, 9.Symmetry_mean, 10.Fractal_dimension_mean',11.Radius_se, 12.Texture_se, 13.Perimeter_se, 14.Area_se, 15.Smoothness_se,16.Compactness_se', 17.Concavity_se, 18.Concave points_se, 19.symmetry_se,20.Fractal_dimension_se, 21.Radius_worst', 22.Texture_worst,23.Perimeter_worst', 24.Area_worst, 25.smoothness_worst, 26.Compactness_worst, 27.Concavity_worst, 28.Concave points_worst', 29.Symmetry_worst, 30.Fractal_dimension_worst00.2871\n",
            "Enter value 1: 20.6\n",
            "Enter value 2: 29.33\n",
            "Enter value 3: 140.1\n",
            "Enter value 4: 1265\n",
            "Enter value 5: 0.1178\n",
            "Enter value 6: 0.277\n",
            "Enter value 7: 0.3514\n",
            "Enter value 8: 0.152\n",
            "Enter value 9: 0.2397\n",
            "Enter value 10: 0.07016\n",
            "Enter value 11: 0.726\n",
            "Enter value 12: 1.595\n",
            "Enter value 13: 5.772\n",
            "Enter value 14: 86.22\n",
            "Enter value 15: 0.006522\n",
            "Enter value 16: 0.06158\n",
            "Enter value 17: 0.07117\n",
            "Enter value 18: 0.01664\n",
            "Enter value 19: 0.02324\n",
            "Enter value 20: 0.006185\n",
            "Enter value 21: 25.74\n",
            "Enter value 22: 39.42\n",
            "Enter value 23: 184.6\n",
            "Enter value 24: 1821\n",
            "Enter value 25: 0.165\n",
            "Enter value 26: 0.8681\n",
            "Enter value 27: 0.9387\n",
            "Enter value 28: 0.265\n",
            "Enter value 29: 0.4087\n",
            "Enter value 30: 0.124\n",
            "1/1 [==============================] - 0s 20ms/step\n",
            "Prediction for input data: Malignant\n"
          ]
        }
      ]
    },
    {
      "cell_type": "markdown",
      "source": [
        "# **Conclusion**"
      ],
      "metadata": {
        "id": "Ch2TjUg6_2Vq"
      }
    },
    {
      "cell_type": "markdown",
      "source": [
        "Here I have created a model to predict breast cancer by using ANN.I have created a detailed article on ANN and it's implementation((https://medium.com/@pranavlal568/unveiling-the-power-of-artificial-neural-networks-implementation-and-future-directions-5c771977e856) It is having an accuracy of **98.83%** which is phenominal for a model for breast  cancer prediction . Here the term malignant refers to person having cancerous cell and benign refers to person not having the cancerous tissue."
      ],
      "metadata": {
        "id": "UDpOqJL0_5s6"
      }
    }
  ]
}